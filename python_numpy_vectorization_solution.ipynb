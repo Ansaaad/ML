{
  "nbformat": 4,
  "nbformat_minor": 0,
  "metadata": {
    "colab": {
      "provenance": [],
      "authorship_tag": "ABX9TyOh+FyRaquMMWoXb9s8rKcb",
      "include_colab_link": true
    },
    "kernelspec": {
      "name": "python3",
      "display_name": "Python 3"
    },
    "language_info": {
      "name": "python"
    }
  },
  "cells": [
    {
      "cell_type": "markdown",
      "metadata": {
        "id": "view-in-github",
        "colab_type": "text"
      },
      "source": [
        "<a href=\"https://colab.research.google.com/github/Ansaaad/ML/blob/main/python_numpy_vectorization_solution.ipynb\" target=\"_parent\"><img src=\"https://colab.research.google.com/assets/colab-badge.svg\" alt=\"Open In Colab\"/></a>"
      ]
    },
    {
      "cell_type": "code",
      "execution_count": null,
      "metadata": {
        "id": "9VHrYhbC-IJZ"
      },
      "outputs": [],
      "source": [
        "import numpy as np"
      ]
    },
    {
      "cell_type": "code",
      "source": [
        "# NumPy routines which allocate memory and fill arrays with value\n",
        "a = np.zeros(4);                print(f\"np.zeros(4) :   a = {a}, a shape = {a.shape}, a data type = {a.dtype}\")\n",
        "a = np.zeros((4,));             print(f\"np.zeros(4,) :  a = {a}, a shape = {a.shape}, a data type = {a.dtype}\")\n",
        "a = np.random.random_sample(4); print(f\"np.random.random_sample(4): a = {a}, a shape = {a.shape}, a data type = {a.dtype}\")"
      ],
      "metadata": {
        "colab": {
          "base_uri": "https://localhost:8080/"
        },
        "id": "BT5sZetE-Pvn",
        "outputId": "2d9db1c3-de46-4ec2-fdc1-4b8897261a20"
      },
      "execution_count": null,
      "outputs": [
        {
          "output_type": "stream",
          "name": "stdout",
          "text": [
            "np.zeros(4) :   a = [0. 0. 0. 0.], a shape = (4,), a data type = float64\n",
            "np.zeros(4,) :  a = [0. 0. 0. 0.], a shape = (4,), a data type = float64\n",
            "np.random.random_sample(4): a = [0.59075777 0.65706683 0.5828401  0.81952845], a shape = (4,), a data type = float64\n"
          ]
        }
      ]
    },
    {
      "cell_type": "code",
      "source": [
        "# NumPy routines which allocate memory and fill arrays with value but do not accept shape as input argument\n",
        "a = np.arange(4.);              print(f\"np.arange(4.):     a = {a}, a shape = {a.shape}, a data type = {a.dtype}\")\n",
        "a = np.random.rand(4);          print(f\"np.random.rand(4): a = {a}, a shape = {a.shape}, a data type = {a.dtype}\")"
      ],
      "metadata": {
        "colab": {
          "base_uri": "https://localhost:8080/"
        },
        "id": "1Ngv_X2z-fKl",
        "outputId": "43ff0390-a1fd-4a81-9a51-579444bb05b6"
      },
      "execution_count": null,
      "outputs": [
        {
          "output_type": "stream",
          "name": "stdout",
          "text": [
            "np.arange(4.):     a = [0. 1. 2. 3.], a shape = (4,), a data type = float64\n",
            "np.random.rand(4): a = [0.14560265 0.25360023 0.2139811  0.80202211], a shape = (4,), a data type = float64\n"
          ]
        }
      ]
    },
    {
      "cell_type": "code",
      "source": [
        "# NumPy routines which allocate memory and fill with user specified values\n",
        "a = np.array([5,4,3,2]);  print(f\"np.array([5,4,3,2]):  a = {a},     a shape = {a.shape}, a data type = {a.dtype}\")\n",
        "a = np.array([5.,4,3,2]); print(f\"np.array([5.,4,3,2]): a = {a}, a shape = {a.shape}, a data type = {a.dtype}\")"
      ],
      "metadata": {
        "colab": {
          "base_uri": "https://localhost:8080/"
        },
        "id": "jCWdTYwi-lO4",
        "outputId": "f83d6298-cd7a-4548-967a-3476aaccca17"
      },
      "execution_count": null,
      "outputs": [
        {
          "output_type": "stream",
          "name": "stdout",
          "text": [
            "np.array([5,4,3,2]):  a = [5 4 3 2],     a shape = (4,), a data type = int64\n",
            "np.array([5.,4,3,2]): a = [5. 4. 3. 2.], a shape = (4,), a data type = float64\n"
          ]
        }
      ]
    },
    {
      "cell_type": "code",
      "source": [
        "#vector indexing operations on 1-D vectors\n",
        "a = np.arange(10)\n",
        "print(a)\n",
        "\n",
        "#access an element\n",
        "print(f\"a[2].shape: {a[2].shape} a[2]  = {a[2]}, Accessing an element returns a scalar\")\n",
        "\n",
        "# access the last element, negative indexes count from the end\n",
        "print(f\"a[-1] = {a[-1]}\")\n",
        "\n",
        "#indexs must be within the range of the vector or they will produce and error\n",
        "try:\n",
        "    c = a[10]\n",
        "except Exception as e:\n",
        "    print(\"The error message you'll see is:\")\n",
        "    print(e)"
      ],
      "metadata": {
        "colab": {
          "base_uri": "https://localhost:8080/"
        },
        "id": "ic0wwjTb-pAR",
        "outputId": "60784fa6-8d9b-4117-a9fe-a8951c3c1bf1"
      },
      "execution_count": null,
      "outputs": [
        {
          "output_type": "stream",
          "name": "stdout",
          "text": [
            "[0 1 2 3 4 5 6 7 8 9]\n",
            "a[2].shape: () a[2]  = 2, Accessing an element returns a scalar\n",
            "a[-1] = 9\n",
            "The error message you'll see is:\n",
            "index 10 is out of bounds for axis 0 with size 10\n"
          ]
        }
      ]
    },
    {
      "cell_type": "code",
      "source": [
        "#vector slicing operations\n",
        "a = np.arange(10)\n",
        "print(f\"a         = {a}\")\n",
        "\n",
        "#access 5 consecutive elements (start:stop:step)\n",
        "c = a[2:7:1];     print(\"a[2:7:1] = \", c)\n",
        "\n",
        "# access 3 elements separated by two\n",
        "c = a[2:7:2];     print(\"a[2:7:2] = \", c)\n",
        "\n",
        "# access all elements index 3 and above\n",
        "c = a[3:];        print(\"a[3:]    = \", c)\n",
        "\n",
        "# access all elements below index 3\n",
        "c = a[:3];        print(\"a[:3]    = \", c)\n",
        "\n",
        "# access all elements\n",
        "c = a[:];         print(\"a[:]     = \", c)"
      ],
      "metadata": {
        "colab": {
          "base_uri": "https://localhost:8080/"
        },
        "id": "ts5JkoOn-4X4",
        "outputId": "620e3820-77e1-45e1-fb7b-055b87c7d722"
      },
      "execution_count": null,
      "outputs": [
        {
          "output_type": "stream",
          "name": "stdout",
          "text": [
            "a         = [0 1 2 3 4 5 6 7 8 9]\n",
            "a[2:7:1] =  [2 3 4 5 6]\n",
            "a[2:7:2] =  [2 4 6]\n",
            "a[3:]    =  [3 4 5 6 7 8 9]\n",
            "a[:3]    =  [0 1 2]\n",
            "a[:]     =  [0 1 2 3 4 5 6 7 8 9]\n"
          ]
        }
      ]
    },
    {
      "cell_type": "code",
      "source": [
        "#Single Vector Operations\n",
        "\n",
        "a = np.array([1,2,3,4])\n",
        "print(f\"a             : {a}\")\n",
        "# negate elements of a\n",
        "b = -a\n",
        "print(f\"b = -a        : {b}\")\n",
        "\n",
        "# sum all elements of a, returns a scalar\n",
        "b = np.sum(a)\n",
        "print(f\"b = np.sum(a) : {b}\")\n",
        "\n",
        "b = np.mean(a)\n",
        "print(f\"b = np.mean(a): {b}\")\n",
        "\n",
        "b = a**2\n",
        "print(f\"b = a**2      : {b}\")"
      ],
      "metadata": {
        "colab": {
          "base_uri": "https://localhost:8080/"
        },
        "id": "pYv-F28i_bXp",
        "outputId": "1234a0fa-9fd6-49de-b66e-88134c4acca1"
      },
      "execution_count": null,
      "outputs": [
        {
          "output_type": "stream",
          "name": "stdout",
          "text": [
            "a             : [1 2 3 4]\n",
            "b = -a        : [-1 -2 -3 -4]\n",
            "b = np.sum(a) : 10\n",
            "b = np.mean(a): 2.5\n",
            "b = a**2      : [ 1  4  9 16]\n"
          ]
        }
      ]
    },
    {
      "cell_type": "code",
      "source": [
        "#Vector Vector element-wise operations\n",
        "\n",
        "a = np.array([ 1, 2, 3, 4])\n",
        "b = np.array([-1,-2, 3, 4])\n",
        "print(f\"Binary operators work element wise: {a + b}\")"
      ],
      "metadata": {
        "colab": {
          "base_uri": "https://localhost:8080/"
        },
        "id": "HNVcHMBw_6Ej",
        "outputId": "6e54c8ad-5915-4b92-a810-f31a55cf25f2"
      },
      "execution_count": null,
      "outputs": [
        {
          "output_type": "stream",
          "name": "stdout",
          "text": [
            "Binary operators work element wise: [0 0 6 8]\n"
          ]
        }
      ]
    },
    {
      "cell_type": "code",
      "source": [
        "#Scalar Vector Operations\n",
        "\n",
        "a = np.array([1, 2, 3, 4])\n",
        "\n",
        "# multiply a by a scalar\n",
        "b = 5 * a\n",
        "print(f\"b = 5 * a : {b}\")"
      ],
      "metadata": {
        "colab": {
          "base_uri": "https://localhost:8080/"
        },
        "id": "I0GPVOP8AB7-",
        "outputId": "373f8ecc-4ebc-44f5-a9e1-72d13ab1e024"
      },
      "execution_count": null,
      "outputs": [
        {
          "output_type": "stream",
          "name": "stdout",
          "text": [
            "b = 5 * a : [ 5 10 15 20]\n"
          ]
        }
      ]
    },
    {
      "cell_type": "code",
      "source": [
        "def my_dot(a, b):\n",
        "    \"\"\"\n",
        "   Compute the dot product of two vectors\n",
        "\n",
        "    Args:\n",
        "      a (ndarray (n,)):  input vector\n",
        "      b (ndarray (n,)):  input vector with same dimension as a\n",
        "\n",
        "    Returns:\n",
        "      x (scalar):\n",
        "    \"\"\"\n",
        "    x=0\n",
        "    for i in range(a.shape[0]):\n",
        "        x = x + a[i] * b[i]\n",
        "    return x"
      ],
      "metadata": {
        "id": "iieOvxXoAxrN"
      },
      "execution_count": null,
      "outputs": []
    },
    {
      "cell_type": "code",
      "source": [
        "#Vector Vector dot product\n",
        "\n",
        "# test 1-D\n",
        "a = np.array([1, 2, 3, 4])\n",
        "b = np.array([-1, 4, 3, 2])\n",
        "print(f\"my_dot(a, b) = {my_dot(a, b)}\")"
      ],
      "metadata": {
        "colab": {
          "base_uri": "https://localhost:8080/"
        },
        "id": "iuq9kyOuAVmU",
        "outputId": "3554da9b-6a24-4064-cc7c-1337eef5f6c7"
      },
      "execution_count": null,
      "outputs": [
        {
          "output_type": "stream",
          "name": "stdout",
          "text": [
            "my_dot(a, b) = 24\n"
          ]
        }
      ]
    },
    {
      "cell_type": "code",
      "source": [
        "# test 1-D\n",
        "a = np.array([1, 2, 3, 4])\n",
        "b = np.array([-1, 4, 3, 2])\n",
        "c = np.dot(a, b)\n",
        "print(f\"NumPy 1-D np.dot(a, b) = {c}, np.dot(a, b).shape = {c.shape} \")\n",
        "c = np.dot(b, a)\n",
        "print(f\"NumPy 1-D np.dot(b, a) = {c}, np.dot(a, b).shape = {c.shape} \")"
      ],
      "metadata": {
        "colab": {
          "base_uri": "https://localhost:8080/"
        },
        "id": "LU9mOM2KA6yh",
        "outputId": "c7acca3b-3e0b-464b-e6d4-90630220af5f"
      },
      "execution_count": null,
      "outputs": [
        {
          "output_type": "stream",
          "name": "stdout",
          "text": [
            "NumPy 1-D np.dot(a, b) = 24, np.dot(a, b).shape = () \n",
            "NumPy 1-D np.dot(b, a) = 24, np.dot(a, b).shape = () \n"
          ]
        }
      ]
    },
    {
      "cell_type": "code",
      "source": [
        "# show common Course 1 example\n",
        "X = np.array([[1],[2],[3],[4]])\n",
        "w = np.array([2])\n",
        "c = np.dot(X[1], w)\n",
        "\n",
        "print(f\"X[1] has shape {X[1].shape}\")\n",
        "print(f\"w has shape {w.shape}\")\n",
        "print(f\"c has shape {c.shape}\")"
      ],
      "metadata": {
        "colab": {
          "base_uri": "https://localhost:8080/"
        },
        "id": "vA4KkUyMBkIJ",
        "outputId": "8e189b09-62eb-400c-d8e6-ebe2f3194372"
      },
      "execution_count": null,
      "outputs": [
        {
          "output_type": "stream",
          "name": "stdout",
          "text": [
            "X[1] has shape (1,)\n",
            "w has shape (1,)\n",
            "c has shape ()\n"
          ]
        }
      ]
    },
    {
      "cell_type": "code",
      "source": [
        "#matrix creation\n",
        "\n",
        "a = np.zeros((1, 5))\n",
        "print(f\"a shape = {a.shape}, a = {a}\")\n",
        "\n",
        "a = np.zeros((2, 1))\n",
        "print(f\"a shape = {a.shape}, a = {a}\")\n",
        "\n",
        "a = np.random.random_sample((1, 1))\n",
        "print(f\"a shape = {a.shape}, a = {a}\")"
      ],
      "metadata": {
        "colab": {
          "base_uri": "https://localhost:8080/"
        },
        "id": "MDRbEsyhBuKS",
        "outputId": "9fa2f05c-5f44-4be5-8acd-603ed920df6d"
      },
      "execution_count": null,
      "outputs": [
        {
          "output_type": "stream",
          "name": "stdout",
          "text": [
            "a shape = (1, 5), a = [[0. 0. 0. 0. 0.]]\n",
            "a shape = (2, 1), a = [[0.]\n",
            " [0.]]\n",
            "a shape = (1, 1), a = [[0.44236513]]\n"
          ]
        }
      ]
    },
    {
      "cell_type": "code",
      "source": [
        "# NumPy routines which allocate memory and fill with user specified values\n",
        "a = np.array([[5], [4], [3]]);   print(f\" a shape = {a.shape}, np.array: a = {a}\")\n",
        "a = np.array([[5],   # One can also\n",
        "              [4],   # separate values\n",
        "              [3]]); #into separate rows\n",
        "print(f\" a shape = {a.shape}, np.array: a = {a}\")"
      ],
      "metadata": {
        "colab": {
          "base_uri": "https://localhost:8080/"
        },
        "id": "M6qPTRnpB57r",
        "outputId": "ae337b85-fbe4-4bed-8189-160592cb5a5e"
      },
      "execution_count": null,
      "outputs": [
        {
          "output_type": "stream",
          "name": "stdout",
          "text": [
            " a shape = (3, 1), np.array: a = [[5]\n",
            " [4]\n",
            " [3]]\n",
            " a shape = (3, 1), np.array: a = [[5]\n",
            " [4]\n",
            " [3]]\n"
          ]
        }
      ]
    },
    {
      "cell_type": "code",
      "source": [
        "#vector indexing operations on matrices\n",
        "a = np.arange(6).reshape(-1, 2)   #reshape is a convenient way to create matrices\n",
        "print(f\"a.shape: {a.shape}, \\na= {a}\")\n",
        "\n",
        "#access an element\n",
        "print(f\"\\na[2,0].shape:   {a[2, 0].shape}, a[2,0] = {a[2, 0]},     type(a[2,0]) = {type(a[2, 0])} Accessing an element returns a scalar\\n\")\n",
        "\n",
        "#access a row\n",
        "print(f\"a[2].shape:   {a[2].shape}, a[2]   = {a[2]}, type(a[2])   = {type(a[2])}\")"
      ],
      "metadata": {
        "colab": {
          "base_uri": "https://localhost:8080/"
        },
        "id": "2_J4GZyZB_te",
        "outputId": "ba0dd48c-5541-4840-b9f6-259b7c0fd1bd"
      },
      "execution_count": null,
      "outputs": [
        {
          "output_type": "stream",
          "name": "stdout",
          "text": [
            "a.shape: (3, 2), \n",
            "a= [[0 1]\n",
            " [2 3]\n",
            " [4 5]]\n",
            "\n",
            "a[2,0].shape:   (), a[2,0] = 4,     type(a[2,0]) = <class 'numpy.int64'> Accessing an element returns a scalar\n",
            "\n",
            "a[2].shape:   (2,), a[2]   = [4 5], type(a[2])   = <class 'numpy.ndarray'>\n"
          ]
        }
      ]
    },
    {
      "cell_type": "code",
      "source": [
        "#vector 2-D slicing operations\n",
        "a = np.arange(20).reshape(-1, 10)\n",
        "print(f\"a = \\n{a}\")\n",
        "\n",
        "#access 5 consecutive elements (start:stop:step)\n",
        "print(\"a[0, 2:7:1] = \", a[0, 2:7:1], \",  a[0, 2:7:1].shape =\", a[0, 2:7:1].shape, \"a 1-D array\")\n",
        "\n",
        "#access 5 consecutive elements (start:stop:step) in two rows\n",
        "print(\"a[:, 2:7:1] = \\n\", a[:, 2:7:1], \",  a[:, 2:7:1].shape =\", a[:, 2:7:1].shape, \"a 2-D array\")\n",
        "\n",
        "# access all elements\n",
        "print(\"a[:,:] = \\n\", a[:,:], \",  a[:,:].shape =\", a[:,:].shape)\n",
        "\n",
        "# access all elements in one row (very common usage)\n",
        "print(\"a[1,:] = \", a[1,:], \",  a[1,:].shape =\", a[1,:].shape, \"a 1-D array\")\n",
        "# same as\n",
        "print(\"a[1]   = \", a[1],   \",  a[1].shape   =\", a[1].shape, \"a 1-D array\")\n"
      ],
      "metadata": {
        "id": "wqgjxgsDCKLA",
        "outputId": "aa457d86-4424-4150-fd69-60f2e094f9fc",
        "colab": {
          "base_uri": "https://localhost:8080/"
        }
      },
      "execution_count": null,
      "outputs": [
        {
          "output_type": "stream",
          "name": "stdout",
          "text": [
            "a = \n",
            "[[ 0  1  2  3  4  5  6  7  8  9]\n",
            " [10 11 12 13 14 15 16 17 18 19]]\n",
            "a[0, 2:7:1] =  [2 3 4 5 6] ,  a[0, 2:7:1].shape = (5,) a 1-D array\n",
            "a[:, 2:7:1] = \n",
            " [[ 2  3  4  5  6]\n",
            " [12 13 14 15 16]] ,  a[:, 2:7:1].shape = (2, 5) a 2-D array\n",
            "a[:,:] = \n",
            " [[ 0  1  2  3  4  5  6  7  8  9]\n",
            " [10 11 12 13 14 15 16 17 18 19]] ,  a[:,:].shape = (2, 10)\n",
            "a[1,:] =  [10 11 12 13 14 15 16 17 18 19] ,  a[1,:].shape = (10,) a 1-D array\n",
            "a[1]   =  [10 11 12 13 14 15 16 17 18 19] ,  a[1].shape   = (10,) a 1-D array\n"
          ]
        }
      ]
    }
  ]
}